{
 "cells": [
  {
   "cell_type": "code",
   "execution_count": 20,
   "id": "ef87d259",
   "metadata": {},
   "outputs": [],
   "source": [
    "import numpy as np\n",
    "from math import *"
   ]
  },
  {
   "cell_type": "code",
   "execution_count": 21,
   "id": "61a4a8dd",
   "metadata": {},
   "outputs": [
    {
     "data": {
      "text/plain": [
       "array([ 2.0000000e+00, -4.8985872e-16])"
      ]
     },
     "execution_count": 21,
     "metadata": {},
     "output_type": "execute_result"
    }
   ],
   "source": [
    "# turn around origin\n",
    "def simple(t, dist):\n",
    "    return np.array([cos(t*pi*2)*dist, sin(t*pi*2)*dist])\n",
    "simple(1, 2)"
   ]
  },
  {
   "cell_type": "code",
   "execution_count": 22,
   "id": "b1b2860b",
   "metadata": {},
   "outputs": [],
   "source": [
    "# turn around a point\n",
    "def turna(t, p, dist):\n",
    "    orbit = simple(t, dist)\n",
    "    return p+orbit"
   ]
  },
  {
   "cell_type": "code",
   "execution_count": 23,
   "id": "bbf5e48b",
   "metadata": {},
   "outputs": [],
   "source": [
    "def printxy(p):\n",
    "    print(f\"x: {p[0]:.2f}  y: {p[1]:.2f}\")"
   ]
  },
  {
   "cell_type": "code",
   "execution_count": 24,
   "id": "ecde867f",
   "metadata": {},
   "outputs": [
    {
     "name": "stdout",
     "output_type": "stream",
     "text": [
      "x: 1.00  y: 0.00\n",
      "x: 2.00  y: 1.00\n"
     ]
    }
   ],
   "source": [
    "p = [1, 1]\n",
    "t = 0\n",
    "dist = 1\n",
    "printxy(simple(t, dist))\n",
    "printxy(turna(t, p, 1))"
   ]
  },
  {
   "cell_type": "code",
   "execution_count": 25,
   "id": "7590a0f9",
   "metadata": {},
   "outputs": [
    {
     "data": {
      "text/plain": [
       "[['A', '0.2', '255,255,255'],\n",
       " ['C', '5,0,5', '-1,0,0', '60'],\n",
       " ['sp', '0,0,5', '1', '255,255,255', 'textures/earth.xpm'],\n",
       " ['L', '5,0,5', '0.95', '255,255,255']]"
      ]
     },
     "execution_count": 25,
     "metadata": {},
     "output_type": "execute_result"
    }
   ],
   "source": [
    "with open(\"sphere_cam.rt\") as f:\n",
    "    lines = str.splitlines(f.read())\n",
    "lines = [l.split() for l in lines]\n",
    "lines"
   ]
  },
  {
   "cell_type": "code",
   "execution_count": 26,
   "id": "eb9fdab1",
   "metadata": {},
   "outputs": [],
   "source": [
    "def xyToStr(point):\n",
    "    return f'{point[0]:.3f},0,{point[1]:.3f}'\n",
    "def strToXy(s: str):\n",
    "    a = s.split(sep=',')\n",
    "    return [int(a[0]), int(a[2])]\n",
    "def norm(v):\n",
    "    return v / np.linalg.norm(v)"
   ]
  },
  {
   "cell_type": "code",
   "execution_count": 27,
   "id": "8164ebba",
   "metadata": {},
   "outputs": [],
   "source": [
    "def lineToFile(lines, filename):\n",
    "    a = \"\"\n",
    "    for l in lines:\n",
    "        a += \"    \".join(l)+\"\\n\"\n",
    "    a += \"=\"*20+\"\\n\"\n",
    "    with open(filename, \"a\") as f:\n",
    "        f.write(a)"
   ]
  },
  {
   "cell_type": "code",
   "execution_count": 28,
   "id": "06a37ba8",
   "metadata": {},
   "outputs": [],
   "source": [
    "lineToFile(lines, \"test\")"
   ]
  },
  {
   "cell_type": "code",
   "execution_count": 29,
   "id": "754dc4d3",
   "metadata": {},
   "outputs": [
    {
     "data": {
      "text/plain": [
       "[0, 5]"
      ]
     },
     "execution_count": 29,
     "metadata": {},
     "output_type": "execute_result"
    }
   ],
   "source": [
    "dist = 5\n",
    "center = strToXy(lines[2][1])\n",
    "center"
   ]
  },
  {
   "cell_type": "code",
   "execution_count": 30,
   "id": "8df960b6",
   "metadata": {},
   "outputs": [],
   "source": [
    "for i in range(100):\n",
    "    pos = turna(i/100, center, dist)\n",
    "    dir = norm(center-pos)\n",
    "    lines[1][1] = xyToStr(pos)\n",
    "    lines[1][2] = xyToStr(dir)\n",
    "    lines[3][1] = xyToStr(pos)\n",
    "    lineToFile(lines, \"orbit.rt\")"
   ]
  },
  {
   "cell_type": "code",
   "execution_count": null,
   "id": "a8e164c3",
   "metadata": {},
   "outputs": [],
   "source": []
  },
  {
   "cell_type": "code",
   "execution_count": null,
   "id": "0616047e",
   "metadata": {},
   "outputs": [],
   "source": []
  },
  {
   "cell_type": "code",
   "execution_count": null,
   "id": "a583d121",
   "metadata": {},
   "outputs": [],
   "source": []
  }
 ],
 "metadata": {
  "kernelspec": {
   "display_name": "Python 3",
   "language": "python",
   "name": "python3"
  },
  "language_info": {
   "codemirror_mode": {
    "name": "ipython",
    "version": 3
   },
   "file_extension": ".py",
   "mimetype": "text/x-python",
   "name": "python",
   "nbconvert_exporter": "python",
   "pygments_lexer": "ipython3",
   "version": "3.10.18"
  }
 },
 "nbformat": 4,
 "nbformat_minor": 5
}
