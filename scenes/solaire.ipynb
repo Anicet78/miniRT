{
 "cells": [
  {
   "cell_type": "code",
   "execution_count": 6,
   "id": "6af09d47",
   "metadata": {},
   "outputs": [],
   "source": [
    "import numpy as np\n",
    "import math\n",
    "from typing import NamedTuple"
   ]
  },
  {
   "cell_type": "code",
   "execution_count": 7,
   "id": "0d16a912",
   "metadata": {},
   "outputs": [],
   "source": [
    "class p:\n",
    "    def __init__(self, x:float=0, y:float=0, z:float=0):\n",
    "        self.x = x\n",
    "        self.y = y\n",
    "        self.z = z\n",
    "        self.dist = (x**2 + y**2 + z**2)**0.5\n",
    "    def __str__(self):\n",
    "        return f\"{self.x:g},{self.y:g},{self.z:g}\"\n",
    "    \n",
    "class v(p):\n",
    "    def __init__(self, x: float = 1, y: float = 1, z: float = 1):\n",
    "        super().__init__(x, y, z)\n",
    "        self.norm()\n",
    "    def norm(self):\n",
    "        m = self.mag()\n",
    "        self.x /= m\n",
    "        self.y /= m\n",
    "        self.z /= m\n",
    "        return self\n",
    "    def mag(self):\n",
    "        return (self.x**2 + self.y**2 + self.z**2)**0.5\n",
    "\n",
    "class col():\n",
    "    def __init__(self, x:int=255, y:int=255, z:int=255) -> None:\n",
    "        self.x = x\n",
    "        self.y = y\n",
    "        self.z = z\n",
    "    def __str__(self):\n",
    "        return f\"{self.x},{self.y},{self.z}\""
   ]
  },
  {
   "cell_type": "code",
   "execution_count": 8,
   "id": "9014695a",
   "metadata": {},
   "outputs": [],
   "source": [
    "class elem:\n",
    "    def __init__(self, label, *args):\n",
    "        self.label = label\n",
    "        self.comp = list(args)\n",
    "        self.p = next((a for a in self.comp if type(a) == p), p())\n",
    "        self.v = next((a for a in self.comp if type(a) == v), v())\n",
    "    def __str__(self):\n",
    "        return \"  \".join(map(str, self.comp))"
   ]
  },
  {
   "cell_type": "code",
   "execution_count": 9,
   "id": "1873b68f",
   "metadata": {},
   "outputs": [],
   "source": [
    "scene = [elem('ambient', \"A\", 0.2, col())]\n",
    "scene += [elem('camera', \"C\", p(40, 12, 0), v(-30, -12, 0))]\n",
    "scene += [elem('soleil', \"sp\", p(0,0,0), 8, col(), \"texture/sun.xpm\")]\n",
    "scene += [elem('lum', \"L\", p(9,0,0), 1, col())]\n",
    "scene += [elem('lum', \"L\", p(-9,0,0), 1, col())]\n",
    "scene += [elem('lum', \"L\", p(0,0,9), 1, col())]\n",
    "scene += [elem('lum', \"L\", p(0,0,-9), 1, col())]\n",
    "scene += [elem('mercure', \"sp\", p(17,0,0), 0.3, col(), \"texture/mercury.xpm\")]\n",
    "scene += [elem('venus', \"sp\", p(24,0,0), 0.9, col(), \"texture/venus.xpm\")]\n",
    "scene += [elem('earth', \"sp\", p(31,0,0), 0.93, col(), \"texture/earth.xpm\")]\n",
    "scene += [elem('mars', \"sp\", p(38,0,0), 0.45, col(), \"texture/mars.xpm\")]\n",
    "scene += [elem('jupiter', \"sp\", p(49,0,0), 2.8, col(), \"texture/jupiter.xpm\")]\n",
    "scene += [elem('saturn', \"sp\", p(59,0,0), 2.2, col(), \"texture/saturn.xpm\")]\n",
    "scene += [elem('uranus', \"sp\", p(66,0,0), 1.7, col(), \"texture/uranus.xpm\")]\n",
    "scene += [elem('neptune', \"sp\", p(72,0,0), 1.7, col(), \"texture/neptune.xpm\")]"
   ]
  },
  {
   "cell_type": "code",
   "execution_count": 10,
   "id": "2c60cbe5",
   "metadata": {},
   "outputs": [],
   "source": [
    "frame = \"\\n\".join(map(str, scene))\n",
    "# write frame in solaire.rt file\n",
    "with open(\"solaire.rt\", \"w\") as f:\n",
    "    f.write(frame)"
   ]
  },
  {
   "cell_type": "code",
   "execution_count": null,
   "id": "75019573",
   "metadata": {},
   "outputs": [],
   "source": []
  }
 ],
 "metadata": {
  "kernelspec": {
   "display_name": "Fun",
   "language": "python",
   "name": "python3"
  },
  "language_info": {
   "codemirror_mode": {
    "name": "ipython",
    "version": 3
   },
   "file_extension": ".py",
   "mimetype": "text/x-python",
   "name": "python",
   "nbconvert_exporter": "python",
   "pygments_lexer": "ipython3",
   "version": "3.12.2"
  }
 },
 "nbformat": 4,
 "nbformat_minor": 5
}
