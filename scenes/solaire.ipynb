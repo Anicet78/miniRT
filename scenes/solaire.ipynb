{
 "cells": [
  {
   "cell_type": "code",
   "execution_count": 5,
   "id": "6af09d47",
   "metadata": {},
   "outputs": [],
   "source": [
    "import numpy as np\n",
    "import math\n",
    "from typing import NamedTuple\n",
    "import typing"
   ]
  },
  {
   "cell_type": "code",
   "execution_count": 21,
   "id": "0b0651d3",
   "metadata": {},
   "outputs": [],
   "source": [
    "p = NamedTuple('p', [('x', float), ('y', float), ('z', float)])\n",
    "v = NamedTuple('p', [('x', float), ('y', float), ('z', float)])"
   ]
  },
  {
   "cell_type": "code",
   "execution_count": 22,
   "id": "93919e96",
   "metadata": {},
   "outputs": [],
   "source": [
    "def ptos(point:p):\n",
    "    return f\"{p.x},{p.y},{p.z}\""
   ]
  },
  {
   "cell_type": "code",
   "execution_count": null,
   "id": "9014695a",
   "metadata": {},
   "outputs": [],
   "source": [
    "class pos_o:\n",
    "    def \n",
    "class cam:\n",
    "    def __init__(self, pos:p, angle:int):\n",
    "        self.id = \"C\"\n",
    "        self.pos = pos\n",
    "        self.angle = angle\n",
    "    def line(self):\n",
    "        s = f\"{self.id} {ptos(self.pos)}, {self.angle}\\n\"\n",
    "        return s\n",
    "class sphere:\n",
    "    def __init__(self, pos:p)"
   ]
  },
  {
   "cell_type": "code",
   "execution_count": null,
   "id": "1873b68f",
   "metadata": {},
   "outputs": [],
   "source": []
  }
 ],
 "metadata": {
  "kernelspec": {
   "display_name": "Python 3",
   "language": "python",
   "name": "python3"
  },
  "language_info": {
   "codemirror_mode": {
    "name": "ipython",
    "version": 3
   },
   "file_extension": ".py",
   "mimetype": "text/x-python",
   "name": "python",
   "nbconvert_exporter": "python",
   "pygments_lexer": "ipython3",
   "version": "3.10.18"
  }
 },
 "nbformat": 4,
 "nbformat_minor": 5
}
